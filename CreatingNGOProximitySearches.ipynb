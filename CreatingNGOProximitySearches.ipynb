{
 "cells": [
  {
   "cell_type": "markdown",
   "metadata": {},
   "source": [
    "# Creating NGO Proximity Searches\n",
    "## Claude de Rijke-Thomas\n",
    "## Sat 25th April 2020"
   ]
  },
  {
   "cell_type": "code",
   "execution_count": 1,
   "metadata": {},
   "outputs": [],
   "source": [
    "import numpy as np\n",
    "import scipy.spatial as spatial\n",
    "import sklearn\n",
    "import utm\n",
    "from pyproj import Proj\n",
    "import string\n",
    "import random"
   ]
  },
  {
   "cell_type": "code",
   "execution_count": 2,
   "metadata": {},
   "outputs": [],
   "source": [
    "class NGO:\n",
    "    def __init__(self, ngo_id, ngo_name, ngo_loc_lon_lat, ngo_radius, ngo_speciality=None, ngo_loc_metres=None,\n",
    "                 ngo_zone_number=None,ngo_zone_designator=None, ngo_number=None, ngo_url=None):\n",
    "        \"\"\" An object representing the data for a single NGO\"\"\"\n",
    "        self.id = ngo_id\n",
    "        self.name = ngo_name\n",
    "        self.loc_lon_lat = ngo_loc_lon_lat\n",
    "        self.radius = ngo_radius #in m\n",
    "        self.speciality = ngo_speciality\n",
    "        self.loc_metres=ngo_loc_metres\n",
    "        self.zone_designator=ngo_zone_designator\n",
    "        self.zone_number=ngo_zone_number\n",
    "        self.number=ngo_number\n",
    "        self.url = ngo_url\n",
    "    def add_location(self, ngo_loc_lon_lat):\n",
    "        if self.loc_lon_lat is None:\n",
    "            self.loc_lon_lat = []\n",
    "        self.location.append(ngo_location)\n",
    "    def add_speciality(self, ngo_speciality):\n",
    "        if self.speciality is None:\n",
    "            self.speciality = []\n",
    "        self.speciality.append(ngo_speciality)\n",
    "    def add_loc_metres(self, coords_tuple):\n",
    "        if self.loc_metres is None:\n",
    "            self.loc_metres = []\n",
    "        if len(self.loc_metres)==0:\n",
    "            self.loc_metres.extend([coords_tuple[0], coords_tuple[1]])\n",
    "    def add_zone_number(self, ngo_zone_number):\n",
    "        if self.zone_number is None:\n",
    "            self.zone_number=ngo_zone_number\n",
    "    def add_zone_designator(self, ngo_zone_designator):\n",
    "        if self.zone_designator is None:\n",
    "            self.zone_designator=(ngo_zone_designator)\n",
    "    def add_number(self, ngo_number):\n",
    "        if self.number is None:\n",
    "            self.number=(ngo_number)\n",
    "    def add_url(self, ngo_url):\n",
    "        if self.url is None:\n",
    "            self.url=(ngo_url)\n",
    "class Human:\n",
    "    def __init__(self, human_id, human_name, human_loc_lon_lat, human_speciality=None, human_loc_metres=None, \n",
    "                 human_zone_number=None,human_zone_designator=None):\n",
    "        \"\"\" An object representing the data for a single Human\"\"\"\n",
    "        self.id = human_id\n",
    "        self.name = human_name\n",
    "        self.loc_lon_lat = human_loc_lon_lat\n",
    "        self.speciality = human_speciality\n",
    "        self.loc_metres=human_loc_metres\n",
    "        self.zone_designator=human_zone_designator\n",
    "        self.zone_number=human_zone_number\n",
    "    def add_location(self, human_loc_lon_lat):\n",
    "        if self.loc_lon_lat is None:\n",
    "            self.loc_lon_lat = []\n",
    "        self.location.append(human_location)\n",
    "    def add_speciality(self, human_speciality):\n",
    "        if self.speciality is None:\n",
    "            self.speciality = []\n",
    "        self.speciality.append(human_speciality)\n",
    "    def add_loc_metres(self, coords_tuple):\n",
    "        if self.loc_metres is None:\n",
    "            self.loc_metres = []\n",
    "        if len(self.loc_metres)==0:\n",
    "            self.loc_metres.extend([coords_tuple[0], coords_tuple[1]])\n",
    "    def add_zone_number(self, human_zone_number):\n",
    "        if self.zone_number is None:\n",
    "            self.zone_number=human_zone_number\n",
    "    def add_zone_designator(self, human_zone_designator):\n",
    "        if self.zone_designator is None:\n",
    "            self.zone_designator=(human_zone_designator)            \n",
    "            "
   ]
  },
  {
   "cell_type": "code",
   "execution_count": 3,
   "metadata": {},
   "outputs": [],
   "source": [
    "ngo_obj_arr = []\n",
    "for i in range(10000):\n",
    "    name=\"\"\n",
    "    for j in range(np.random.randint(3,12)):\n",
    "        name+=random.choice(string.ascii_letters)\n",
    "    ngo = NGO(np.random.bytes(10), name, [np.random.random()*180-90,np.random.random()*160-80], np.random.randint(1000000), \"domestic abuse\")\n",
    "    ngo_obj_arr.append(ngo)"
   ]
  },
  {
   "cell_type": "code",
   "execution_count": 4,
   "metadata": {},
   "outputs": [],
   "source": [
    "for ngo_obj in ngo_obj_arr:\n",
    "    _,_,zone_number,zone_designator =utm.from_latlon(ngo_obj.loc_lon_lat[1], ngo_obj.loc_lon_lat[0])\n",
    "    myProj = Proj(\"+proj=utm +zone=\"+str(zone_number)+str(zone_designator)+\", +north +ellps=WGS84 +datum=WGS84 +units=m +no_defs\")\n",
    "    UTMx, UTMy = myProj(ngo_obj.loc_lon_lat[0], ngo_obj.loc_lon_lat[1])\n",
    "    ngo_obj.add_loc_metres([UTMx,UTMy])\n",
    "    ngo_obj.add_zone_number(zone_number)\n",
    "    number=\"07\"\n",
    "    for j in range(9):\n",
    "        number+=random.choice(string.digits)\n",
    "    ngo_obj.add_zone_designator(zone_designator)\n",
    "    ngo_obj.add_number(number)"
   ]
  },
  {
   "cell_type": "code",
   "execution_count": 5,
   "metadata": {},
   "outputs": [],
   "source": [
    "human_obj = Human(np.random.bytes(10), \"name\", [np.random.random()*180-90,np.random.random()*160-80],\"domestic abuse\")\n",
    "_,_,zone_number,zone_designator =utm.from_latlon(human_obj.loc_lon_lat[1], human_obj.loc_lon_lat[0])\n",
    "myProj = Proj(\"+proj=utm +zone=\"+str(zone_number)+str(zone_designator)+\", +north +ellps=WGS84 +datum=WGS84 +units=m +no_defs\")\n",
    "UTMx, UTMy = myProj(human_obj.loc_lon_lat[0], human_obj.loc_lon_lat[1])\n",
    "human_obj.add_loc_metres([UTMx,UTMy])\n",
    "human_obj.add_zone_number(zone_number)\n",
    "human_obj.add_zone_designator(zone_designator)"
   ]
  },
  {
   "cell_type": "code",
   "execution_count": 6,
   "metadata": {},
   "outputs": [],
   "source": [
    "zonal_ngo_obj_arr = []\n",
    "for ngo_obj in ngo_obj_arr:\n",
    "    if ngo_obj.zone_number==human_obj.zone_number and ngo_obj.zone_designator==human_obj.zone_designator:\n",
    "        zonal_ngo_obj_arr.append(ngo_obj)"
   ]
  },
  {
   "cell_type": "code",
   "execution_count": 7,
   "metadata": {},
   "outputs": [
    {
     "name": "stdout",
     "output_type": "stream",
     "text": [
      "The number of NGO's in the UTM Zone are: 24\n"
     ]
    }
   ],
   "source": [
    "print(\"The number of NGO's in the UTM Zone are:\",len(zonal_ngo_obj_arr))"
   ]
  },
  {
   "cell_type": "code",
   "execution_count": 8,
   "metadata": {},
   "outputs": [
    {
     "name": "stdout",
     "output_type": "stream",
     "text": [
      "The number of NGO's available to the individual that fit the individual's requirements is:  15\n",
      "The names and numbers of the NGO's available to the individual that fit the individual's requirements are: \n",
      " [['jDIC', '07454756835'], ['yPuHaqJUxW', '07500301704'], ['Oax', '07243310946'], ['mnrJnBUdfhw', '07047183829'], ['XOsWEAVS', '07349884686'], ['yxzz', '07045544123'], ['jRGCBVWOXlR', '07907756624'], ['BqSUgroCN', '07175142068'], ['Fgm', '07277500383'], ['EAWjuD', '07124552091'], ['NPGEKcwfqkP', '07648157657'], ['dcpKUSUwNrt', '07011617167'], ['SNyDUsGFg', '07950531082'], ['EwSosSVKpj', '07019066922'], ['JJDfip', '07219480399']]\n"
     ]
    }
   ],
   "source": [
    "successful_ngo_obj_arr = []\n",
    "for ngo_obj in zonal_ngo_obj_arr:\n",
    "    if ngo_obj.radius > np.sqrt((human_obj.loc_metres[0]-ngo_obj.loc_metres[0])**2 + (human_obj.loc_metres[1]-ngo_obj.loc_metres[1])**2):\n",
    "        successful_ngo_obj_arr.append(ngo_obj)\n",
    "print(\"The number of NGO's available to the individual that fit the individual\\'s requirements is: \",len(successful_ngo_obj_arr))\n",
    "successful_ngo_names = [ngo_obj.name for ngo_obj in successful_ngo_obj_arr]\n",
    "successful_ngo_numbers= [ngo_obj.number for ngo_obj in successful_ngo_obj_arr]\n",
    "succ_name_n0_arr = [[ngo_obj.name,ngo_obj.number] for ngo_obj in successful_ngo_obj_arr]\n",
    "print(\"The names and numbers of the NGO's available to the individual that fit the individual\\'s requirements are: \\n\",succ_name_n0_arr)"
   ]
  },
  {
   "cell_type": "code",
   "execution_count": null,
   "metadata": {},
   "outputs": [],
   "source": []
  },
  {
   "cell_type": "code",
   "execution_count": null,
   "metadata": {},
   "outputs": [],
   "source": []
  }
 ],
 "metadata": {
  "kernelspec": {
   "display_name": "Python 3",
   "language": "python",
   "name": "python3"
  },
  "language_info": {
   "codemirror_mode": {
    "name": "ipython",
    "version": 3
   },
   "file_extension": ".py",
   "mimetype": "text/x-python",
   "name": "python",
   "nbconvert_exporter": "python",
   "pygments_lexer": "ipython3",
   "version": "3.7.4"
  }
 },
 "nbformat": 4,
 "nbformat_minor": 4
}
